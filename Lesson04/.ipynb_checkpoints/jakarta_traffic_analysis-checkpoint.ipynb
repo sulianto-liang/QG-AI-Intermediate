{
 "cells": [
  {
   "cell_type": "code",
   "execution_count": 4,
   "id": "515df38b-17cc-42d8-a0bb-125bfa1da98b",
   "metadata": {},
   "outputs": [],
   "source": [
    "# import library\n",
    "import pandas as pd\n",
    "import numpy as np"
   ]
  },
  {
   "cell_type": "code",
   "execution_count": null,
   "id": "1c1fcd26-16ba-46c3-a78d-89cfb7615ef9",
   "metadata": {},
   "outputs": [],
   "source": []
  },
  {
   "cell_type": "markdown",
   "id": "7a7c4333-67dd-4c85-81ab-fe8e5e550a07",
   "metadata": {},
   "source": [
    "# Step 1: Data Loading and Initial Exploration (Easy)"
   ]
  },
  {
   "cell_type": "markdown",
   "id": "60c6eb72-8f8e-4701-8610-f04b5fe95fb2",
   "metadata": {},
   "source": [
    "# 1.1 the day of the week with"
   ]
  },
  {
   "cell_type": "code",
   "execution_count": 6,
   "id": "438a56bb-d9e0-4ef2-943d-f38f36b799d3",
   "metadata": {},
   "outputs": [],
   "source": [
    "# open the dataset\n",
    "df = pd.read_csv('jakarta_traffic_data.csv')"
   ]
  },
  {
   "cell_type": "markdown",
   "id": "9a822aad-1b2a-4e2d-9e11-b56117847786",
   "metadata": {},
   "source": [
    "# 1.2 Display the first 5 rows to understand the data structure"
   ]
  },
  {
   "cell_type": "markdown",
   "id": "b41e256c-953d-43cf-912e-f2f38252bd9f",
   "metadata": {},
   "source": [
    "# see 5 first row of the dataset\n",
    "df.head(5)"
   ]
  },
  {
   "cell_type": "markdown",
   "id": "16dba79a-d3cd-46ad-84d2-e30584a95875",
   "metadata": {},
   "source": [
    "# 1.3 Show basic information about the dataset (number of rows, columns, data types)"
   ]
  },
  {
   "cell_type": "code",
   "execution_count": 10,
   "id": "cd3f1923-07ba-4b11-8579-3e58afce3533",
   "metadata": {},
   "outputs": [
    {
     "data": {
      "text/html": [
       "<div>\n",
       "<style scoped>\n",
       "    .dataframe tbody tr th:only-of-type {\n",
       "        vertical-align: middle;\n",
       "    }\n",
       "\n",
       "    .dataframe tbody tr th {\n",
       "        vertical-align: top;\n",
       "    }\n",
       "\n",
       "    .dataframe thead th {\n",
       "        text-align: right;\n",
       "    }\n",
       "</style>\n",
       "<table border=\"1\" class=\"dataframe\">\n",
       "  <thead>\n",
       "    <tr style=\"text-align: right;\">\n",
       "      <th></th>\n",
       "      <th>Hour</th>\n",
       "      <th>Vehicle_Count</th>\n",
       "      <th>Average_Speed_kmh</th>\n",
       "    </tr>\n",
       "  </thead>\n",
       "  <tbody>\n",
       "    <tr>\n",
       "      <th>count</th>\n",
       "      <td>288.000000</td>\n",
       "      <td>287.000000</td>\n",
       "      <td>287.000000</td>\n",
       "    </tr>\n",
       "    <tr>\n",
       "      <th>mean</th>\n",
       "      <td>12.027778</td>\n",
       "      <td>1349.442509</td>\n",
       "      <td>21.431359</td>\n",
       "    </tr>\n",
       "    <tr>\n",
       "      <th>std</th>\n",
       "      <td>4.319060</td>\n",
       "      <td>412.906764</td>\n",
       "      <td>8.013873</td>\n",
       "    </tr>\n",
       "    <tr>\n",
       "      <th>min</th>\n",
       "      <td>7.000000</td>\n",
       "      <td>380.000000</td>\n",
       "      <td>8.400000</td>\n",
       "    </tr>\n",
       "    <tr>\n",
       "      <th>25%</th>\n",
       "      <td>8.000000</td>\n",
       "      <td>1050.000000</td>\n",
       "      <td>15.600000</td>\n",
       "    </tr>\n",
       "    <tr>\n",
       "      <th>50%</th>\n",
       "      <td>10.000000</td>\n",
       "      <td>1320.000000</td>\n",
       "      <td>19.800000</td>\n",
       "    </tr>\n",
       "    <tr>\n",
       "      <th>75%</th>\n",
       "      <td>17.000000</td>\n",
       "      <td>1650.000000</td>\n",
       "      <td>25.800000</td>\n",
       "    </tr>\n",
       "    <tr>\n",
       "      <th>max</th>\n",
       "      <td>22.000000</td>\n",
       "      <td>2450.000000</td>\n",
       "      <td>52.100000</td>\n",
       "    </tr>\n",
       "  </tbody>\n",
       "</table>\n",
       "</div>"
      ],
      "text/plain": [
       "             Hour  Vehicle_Count  Average_Speed_kmh\n",
       "count  288.000000     287.000000         287.000000\n",
       "mean    12.027778    1349.442509          21.431359\n",
       "std      4.319060     412.906764           8.013873\n",
       "min      7.000000     380.000000           8.400000\n",
       "25%      8.000000    1050.000000          15.600000\n",
       "50%     10.000000    1320.000000          19.800000\n",
       "75%     17.000000    1650.000000          25.800000\n",
       "max     22.000000    2450.000000          52.100000"
      ]
     },
     "execution_count": 10,
     "metadata": {},
     "output_type": "execute_result"
    }
   ],
   "source": [
    "# see the statistical things of the dataset\n",
    "df.describe()"
   ]
  },
  {
   "cell_type": "markdown",
   "id": "b92009f2-82ca-479a-a680-6f8be80ac8d1",
   "metadata": {},
   "source": [
    "# 1.4 Check for any missing values in each column"
   ]
  },
  {
   "cell_type": "code",
   "execution_count": 12,
   "id": "a0a962d4-ec17-434e-a5e2-68908243ae72",
   "metadata": {},
   "outputs": [
    {
     "name": "stdout",
     "output_type": "stream",
     "text": [
      "<class 'pandas.core.frame.DataFrame'>\n",
      "RangeIndex: 288 entries, 0 to 287\n",
      "Data columns (total 8 columns):\n",
      " #   Column             Non-Null Count  Dtype  \n",
      "---  ------             --------------  -----  \n",
      " 0   Date               288 non-null    object \n",
      " 1   Location           288 non-null    object \n",
      " 2   Hour               288 non-null    int64  \n",
      " 3   Vehicle_Count      287 non-null    float64\n",
      " 4   Average_Speed_kmh  287 non-null    float64\n",
      " 5   Weather_Condition  287 non-null    object \n",
      " 6   Is_Weekend         287 non-null    object \n",
      " 7   Road_Type          288 non-null    object \n",
      "dtypes: float64(2), int64(1), object(5)\n",
      "memory usage: 18.1+ KB\n"
     ]
    }
   ],
   "source": [
    "# see the information about the data type & null values condition of the data set\n",
    "df.info()"
   ]
  },
  {
   "cell_type": "code",
   "execution_count": 14,
   "id": "2cb322e2-4a8a-40cb-a4ea-c0c104881f76",
   "metadata": {},
   "outputs": [
    {
     "name": "stdout",
     "output_type": "stream",
     "text": [
      "Date                 0\n",
      "Location             0\n",
      "Hour                 0\n",
      "Vehicle_Count        1\n",
      "Average_Speed_kmh    1\n",
      "Weather_Condition    1\n",
      "Is_Weekend           1\n",
      "Road_Type            0\n",
      "dtype: int64\n"
     ]
    }
   ],
   "source": [
    "# check missing values\n",
    "print(df.isnull().sum())"
   ]
  },
  {
   "cell_type": "code",
   "execution_count": null,
   "id": "7511f4d1-d7e9-403d-853a-21b69315dc1a",
   "metadata": {},
   "outputs": [],
   "source": []
  },
  {
   "cell_type": "markdown",
   "id": "902223eb-db0e-4457-a36a-05f4029d6b31",
   "metadata": {},
   "source": [
    "# Step 2: Data Cleaning and Preparation (Easy-Moderate)"
   ]
  },
  {
   "cell_type": "markdown",
   "id": "556f6674-d089-479c-91df-8a279da7620e",
   "metadata": {},
   "source": [
    "# 2.1 Convert the Date column to datetime format"
   ]
  },
  {
   "cell_type": "code",
   "execution_count": 18,
   "id": "b989dbc5-f4e8-4887-9168-c49432955e30",
   "metadata": {},
   "outputs": [],
   "source": [
    "# change column Date data type into datetime\n",
    "df['Date'] = pd.to_datetime(df['Date'])"
   ]
  },
  {
   "cell_type": "markdown",
   "id": "eef779e7-d8d8-4d4c-9401-297af479b5e2",
   "metadata": {},
   "source": [
    "# 2.2 Handle any missing values appropriately"
   ]
  },
  {
   "cell_type": "code",
   "execution_count": 20,
   "id": "79adc0a4-6bd5-48c7-9a45-012ebc47c7d7",
   "metadata": {},
   "outputs": [],
   "source": [
    "# fill null column on Vehicle_Count column with the average of Vehicle_Count\n",
    "df['Vehicle_Count'] = df['Vehicle_Count'].fillna(df['Vehicle_Count'].mean())"
   ]
  },
  {
   "cell_type": "code",
   "execution_count": 26,
   "id": "ff66b448-5896-47ad-bfa1-ce7c02ac1ea4",
   "metadata": {},
   "outputs": [],
   "source": [
    "# fill null column on Average_Speed_kmh column with the average of Average_Speed_kmh\n",
    "df['Average_Speed_kmh'] = df['Average_Speed_kmh'].fillna(df['Average_Speed_kmh'].mean())"
   ]
  },
  {
   "cell_type": "code",
   "execution_count": 35,
   "id": "be5527fc-bb52-49da-a159-72e20e5f2c2d",
   "metadata": {},
   "outputs": [],
   "source": [
    "# Create a new column called Day_of_Week that shows the day name (Monday, Tuesday, etc.)\n",
    "df['Day_of_Week'] = df['Date'].dt.day_name()"
   ]
  },
  {
   "cell_type": "code",
   "execution_count": null,
   "id": "2c065efa-bb67-4683-89c6-099cfbc8f1bc",
   "metadata": {},
   "outputs": [],
   "source": []
  },
  {
   "cell_type": "code",
   "execution_count": 93,
   "id": "345a1ca4-14c8-4d48-b845-67cbfcebb81d",
   "metadata": {},
   "outputs": [],
   "source": [
    "# Create a new column called Time_Period that categorizes hours into:\n",
    "# \"Morning Rush\" (7-9)\n",
    "# \"Midday\" (10-15)\n",
    "# \"Evening Rush\" (16-19)\n",
    "# \"Night\" (20-6)\n",
    "\n",
    "df['Time_Period'] = pd.cut(df['Hour'],bins=[0,6,9,15,19,23],labels=['Night','Morning Rush','Midday','Evening Rush','Night'],right=True,ordered=False)"
   ]
  },
  {
   "cell_type": "code",
   "execution_count": 95,
   "id": "f134c75a-1762-4fd3-936d-dfcd3cf40a13",
   "metadata": {},
   "outputs": [
    {
     "data": {
      "text/html": [
       "<div>\n",
       "<style scoped>\n",
       "    .dataframe tbody tr th:only-of-type {\n",
       "        vertical-align: middle;\n",
       "    }\n",
       "\n",
       "    .dataframe tbody tr th {\n",
       "        vertical-align: top;\n",
       "    }\n",
       "\n",
       "    .dataframe thead th {\n",
       "        text-align: right;\n",
       "    }\n",
       "</style>\n",
       "<table border=\"1\" class=\"dataframe\">\n",
       "  <thead>\n",
       "    <tr style=\"text-align: right;\">\n",
       "      <th></th>\n",
       "      <th>Date</th>\n",
       "      <th>Location</th>\n",
       "      <th>Hour</th>\n",
       "      <th>Vehicle_Count</th>\n",
       "      <th>Average_Speed_kmh</th>\n",
       "      <th>Weather_Condition</th>\n",
       "      <th>Is_Weekend</th>\n",
       "      <th>Road_Type</th>\n",
       "      <th>Day_of_Week</th>\n",
       "      <th>Time_Period</th>\n",
       "    </tr>\n",
       "  </thead>\n",
       "  <tbody>\n",
       "    <tr>\n",
       "      <th>0</th>\n",
       "      <td>2024-01-01</td>\n",
       "      <td>Thamrin-Sudirman</td>\n",
       "      <td>7</td>\n",
       "      <td>1250.000000</td>\n",
       "      <td>15.200000</td>\n",
       "      <td>Sunny</td>\n",
       "      <td>False</td>\n",
       "      <td>Main_Road</td>\n",
       "      <td>Monday</td>\n",
       "      <td>Morning Rush</td>\n",
       "    </tr>\n",
       "    <tr>\n",
       "      <th>1</th>\n",
       "      <td>2024-01-01</td>\n",
       "      <td>Thamrin-Sudirman</td>\n",
       "      <td>8</td>\n",
       "      <td>1890.000000</td>\n",
       "      <td>12.500000</td>\n",
       "      <td>Sunny</td>\n",
       "      <td>False</td>\n",
       "      <td>Main_Road</td>\n",
       "      <td>Monday</td>\n",
       "      <td>Morning Rush</td>\n",
       "    </tr>\n",
       "    <tr>\n",
       "      <th>2</th>\n",
       "      <td>2024-01-01</td>\n",
       "      <td>Thamrin-Sudirman</td>\n",
       "      <td>9</td>\n",
       "      <td>1650.000000</td>\n",
       "      <td>18.300000</td>\n",
       "      <td>Sunny</td>\n",
       "      <td>False</td>\n",
       "      <td>Main_Road</td>\n",
       "      <td>Monday</td>\n",
       "      <td>Morning Rush</td>\n",
       "    </tr>\n",
       "    <tr>\n",
       "      <th>3</th>\n",
       "      <td>2024-01-01</td>\n",
       "      <td>Thamrin-Sudirman</td>\n",
       "      <td>17</td>\n",
       "      <td>1780.000000</td>\n",
       "      <td>14.100000</td>\n",
       "      <td>Sunny</td>\n",
       "      <td>False</td>\n",
       "      <td>Main_Road</td>\n",
       "      <td>Monday</td>\n",
       "      <td>Evening Rush</td>\n",
       "    </tr>\n",
       "    <tr>\n",
       "      <th>4</th>\n",
       "      <td>2024-01-01</td>\n",
       "      <td>Thamrin-Sudirman</td>\n",
       "      <td>18</td>\n",
       "      <td>2100.000000</td>\n",
       "      <td>11.800000</td>\n",
       "      <td>Sunny</td>\n",
       "      <td>False</td>\n",
       "      <td>Main_Road</td>\n",
       "      <td>Monday</td>\n",
       "      <td>Evening Rush</td>\n",
       "    </tr>\n",
       "    <tr>\n",
       "      <th>...</th>\n",
       "      <td>...</td>\n",
       "      <td>...</td>\n",
       "      <td>...</td>\n",
       "      <td>...</td>\n",
       "      <td>...</td>\n",
       "      <td>...</td>\n",
       "      <td>...</td>\n",
       "      <td>...</td>\n",
       "      <td>...</td>\n",
       "      <td>...</td>\n",
       "    </tr>\n",
       "    <tr>\n",
       "      <th>283</th>\n",
       "      <td>2024-01-15</td>\n",
       "      <td>Senayan_Circle</td>\n",
       "      <td>18</td>\n",
       "      <td>2120.000000</td>\n",
       "      <td>12.400000</td>\n",
       "      <td>Sunny</td>\n",
       "      <td>False</td>\n",
       "      <td>Main_Road</td>\n",
       "      <td>Monday</td>\n",
       "      <td>Evening Rush</td>\n",
       "    </tr>\n",
       "    <tr>\n",
       "      <th>284</th>\n",
       "      <td>2024-01-16</td>\n",
       "      <td>Thamrin-Sudirman</td>\n",
       "      <td>12</td>\n",
       "      <td>1349.442509</td>\n",
       "      <td>25.800000</td>\n",
       "      <td>Sunny</td>\n",
       "      <td>False</td>\n",
       "      <td>Main_Road</td>\n",
       "      <td>Tuesday</td>\n",
       "      <td>Midday</td>\n",
       "    </tr>\n",
       "    <tr>\n",
       "      <th>285</th>\n",
       "      <td>2024-01-16</td>\n",
       "      <td>Gatot_Subroto</td>\n",
       "      <td>13</td>\n",
       "      <td>1180.000000</td>\n",
       "      <td>21.431359</td>\n",
       "      <td>Cloudy</td>\n",
       "      <td>False</td>\n",
       "      <td>Highway</td>\n",
       "      <td>Tuesday</td>\n",
       "      <td>Midday</td>\n",
       "    </tr>\n",
       "    <tr>\n",
       "      <th>286</th>\n",
       "      <td>2024-01-16</td>\n",
       "      <td>Kuningan_Area</td>\n",
       "      <td>21</td>\n",
       "      <td>420.000000</td>\n",
       "      <td>52.100000</td>\n",
       "      <td>NaN</td>\n",
       "      <td>False</td>\n",
       "      <td>Secondary_Road</td>\n",
       "      <td>Tuesday</td>\n",
       "      <td>Night</td>\n",
       "    </tr>\n",
       "    <tr>\n",
       "      <th>287</th>\n",
       "      <td>2024-01-16</td>\n",
       "      <td>Senayan_Circle</td>\n",
       "      <td>22</td>\n",
       "      <td>380.000000</td>\n",
       "      <td>48.700000</td>\n",
       "      <td>Sunny</td>\n",
       "      <td>NaN</td>\n",
       "      <td>Main_Road</td>\n",
       "      <td>Tuesday</td>\n",
       "      <td>Night</td>\n",
       "    </tr>\n",
       "  </tbody>\n",
       "</table>\n",
       "<p>288 rows × 10 columns</p>\n",
       "</div>"
      ],
      "text/plain": [
       "          Date          Location  Hour  Vehicle_Count  Average_Speed_kmh  \\\n",
       "0   2024-01-01  Thamrin-Sudirman     7    1250.000000          15.200000   \n",
       "1   2024-01-01  Thamrin-Sudirman     8    1890.000000          12.500000   \n",
       "2   2024-01-01  Thamrin-Sudirman     9    1650.000000          18.300000   \n",
       "3   2024-01-01  Thamrin-Sudirman    17    1780.000000          14.100000   \n",
       "4   2024-01-01  Thamrin-Sudirman    18    2100.000000          11.800000   \n",
       "..         ...               ...   ...            ...                ...   \n",
       "283 2024-01-15    Senayan_Circle    18    2120.000000          12.400000   \n",
       "284 2024-01-16  Thamrin-Sudirman    12    1349.442509          25.800000   \n",
       "285 2024-01-16     Gatot_Subroto    13    1180.000000          21.431359   \n",
       "286 2024-01-16     Kuningan_Area    21     420.000000          52.100000   \n",
       "287 2024-01-16    Senayan_Circle    22     380.000000          48.700000   \n",
       "\n",
       "    Weather_Condition Is_Weekend       Road_Type Day_of_Week   Time_Period  \n",
       "0               Sunny      False       Main_Road      Monday  Morning Rush  \n",
       "1               Sunny      False       Main_Road      Monday  Morning Rush  \n",
       "2               Sunny      False       Main_Road      Monday  Morning Rush  \n",
       "3               Sunny      False       Main_Road      Monday  Evening Rush  \n",
       "4               Sunny      False       Main_Road      Monday  Evening Rush  \n",
       "..                ...        ...             ...         ...           ...  \n",
       "283             Sunny      False       Main_Road      Monday  Evening Rush  \n",
       "284             Sunny      False       Main_Road     Tuesday        Midday  \n",
       "285            Cloudy      False         Highway     Tuesday        Midday  \n",
       "286               NaN      False  Secondary_Road     Tuesday         Night  \n",
       "287             Sunny        NaN      Main_Road      Tuesday         Night  \n",
       "\n",
       "[288 rows x 10 columns]"
      ]
     },
     "execution_count": 95,
     "metadata": {},
     "output_type": "execute_result"
    }
   ],
   "source": [
    "df"
   ]
  },
  {
   "cell_type": "code",
   "execution_count": null,
   "id": "c07823e2-279d-410a-bda3-608f265113c8",
   "metadata": {},
   "outputs": [],
   "source": []
  },
  {
   "cell_type": "markdown",
   "id": "02b01015-f18e-487c-bd27-1fd6a77c3039",
   "metadata": {},
   "source": [
    "# Step 3: Traffic Pattern Analysis (Moderate)"
   ]
  },
  {
   "cell_type": "markdown",
   "id": "8e1c7de9-a43a-453a-9752-e61631553e9b",
   "metadata": {},
   "source": [
    "# 3.1 Peak Hours Analysis:"
   ]
  },
  {
   "cell_type": "code",
   "execution_count": 122,
   "id": "582da26b-8b61-46c8-a651-046ca023b3f5",
   "metadata": {},
   "outputs": [
    {
     "data": {
      "text/html": [
       "<div>\n",
       "<style scoped>\n",
       "    .dataframe tbody tr th:only-of-type {\n",
       "        vertical-align: middle;\n",
       "    }\n",
       "\n",
       "    .dataframe tbody tr th {\n",
       "        vertical-align: top;\n",
       "    }\n",
       "\n",
       "    .dataframe thead th {\n",
       "        text-align: right;\n",
       "    }\n",
       "</style>\n",
       "<table border=\"1\" class=\"dataframe\">\n",
       "  <thead>\n",
       "    <tr style=\"text-align: right;\">\n",
       "      <th></th>\n",
       "      <th>Vehicle_Count</th>\n",
       "      <th>Average_Speed_kmh</th>\n",
       "    </tr>\n",
       "    <tr>\n",
       "      <th>Hour</th>\n",
       "      <th></th>\n",
       "      <th></th>\n",
       "    </tr>\n",
       "  </thead>\n",
       "  <tbody>\n",
       "    <tr>\n",
       "      <th>7</th>\n",
       "      <td>1101.363636</td>\n",
       "      <td>20.222727</td>\n",
       "    </tr>\n",
       "    <tr>\n",
       "      <th>8</th>\n",
       "      <td>1600.681818</td>\n",
       "      <td>16.550000</td>\n",
       "    </tr>\n",
       "    <tr>\n",
       "      <th>9</th>\n",
       "      <td>1334.545455</td>\n",
       "      <td>22.597727</td>\n",
       "    </tr>\n",
       "    <tr>\n",
       "      <th>10</th>\n",
       "      <td>763.125000</td>\n",
       "      <td>34.956250</td>\n",
       "    </tr>\n",
       "    <tr>\n",
       "      <th>11</th>\n",
       "      <td>890.625000</td>\n",
       "      <td>31.887500</td>\n",
       "    </tr>\n",
       "    <tr>\n",
       "      <th>12</th>\n",
       "      <td>1349.442509</td>\n",
       "      <td>25.800000</td>\n",
       "    </tr>\n",
       "    <tr>\n",
       "      <th>13</th>\n",
       "      <td>1180.000000</td>\n",
       "      <td>21.431359</td>\n",
       "    </tr>\n",
       "    <tr>\n",
       "      <th>14</th>\n",
       "      <td>1091.875000</td>\n",
       "      <td>28.287500</td>\n",
       "    </tr>\n",
       "    <tr>\n",
       "      <th>15</th>\n",
       "      <td>1223.125000</td>\n",
       "      <td>25.868750</td>\n",
       "    </tr>\n",
       "    <tr>\n",
       "      <th>17</th>\n",
       "      <td>1497.272727</td>\n",
       "      <td>18.234091</td>\n",
       "    </tr>\n",
       "    <tr>\n",
       "      <th>18</th>\n",
       "      <td>1780.000000</td>\n",
       "      <td>15.309091</td>\n",
       "    </tr>\n",
       "    <tr>\n",
       "      <th>21</th>\n",
       "      <td>420.000000</td>\n",
       "      <td>52.100000</td>\n",
       "    </tr>\n",
       "    <tr>\n",
       "      <th>22</th>\n",
       "      <td>380.000000</td>\n",
       "      <td>48.700000</td>\n",
       "    </tr>\n",
       "  </tbody>\n",
       "</table>\n",
       "</div>"
      ],
      "text/plain": [
       "      Vehicle_Count  Average_Speed_kmh\n",
       "Hour                                  \n",
       "7       1101.363636          20.222727\n",
       "8       1600.681818          16.550000\n",
       "9       1334.545455          22.597727\n",
       "10       763.125000          34.956250\n",
       "11       890.625000          31.887500\n",
       "12      1349.442509          25.800000\n",
       "13      1180.000000          21.431359\n",
       "14      1091.875000          28.287500\n",
       "15      1223.125000          25.868750\n",
       "17      1497.272727          18.234091\n",
       "18      1780.000000          15.309091\n",
       "21       420.000000          52.100000\n",
       "22       380.000000          48.700000"
      ]
     },
     "execution_count": 122,
     "metadata": {},
     "output_type": "execute_result"
    }
   ],
   "source": [
    "# Find the hour with the highest average vehicle count across all locations\n",
    "# Find the hour with the lowest average speed across all locations\n",
    "# Print both findings with explanatory text\n",
    "\n",
    "df_VhcCount_AvgSpeed_perHour = df.groupby('Hour').agg({'Vehicle_Count':'mean','Average_Speed_kmh':'mean'})\n",
    "df_VhcCount_AvgSpeed_perHour"
   ]
  },
  {
   "cell_type": "code",
   "execution_count": 124,
   "id": "0e4df503-496a-4742-8c58-b4317f574a31",
   "metadata": {},
   "outputs": [
    {
     "data": {
      "text/html": [
       "<div>\n",
       "<style scoped>\n",
       "    .dataframe tbody tr th:only-of-type {\n",
       "        vertical-align: middle;\n",
       "    }\n",
       "\n",
       "    .dataframe tbody tr th {\n",
       "        vertical-align: top;\n",
       "    }\n",
       "\n",
       "    .dataframe thead th {\n",
       "        text-align: right;\n",
       "    }\n",
       "</style>\n",
       "<table border=\"1\" class=\"dataframe\">\n",
       "  <thead>\n",
       "    <tr style=\"text-align: right;\">\n",
       "      <th></th>\n",
       "      <th>Vehicle_Count</th>\n",
       "      <th>Average_Speed_kmh</th>\n",
       "    </tr>\n",
       "    <tr>\n",
       "      <th>Hour</th>\n",
       "      <th></th>\n",
       "      <th></th>\n",
       "    </tr>\n",
       "  </thead>\n",
       "  <tbody>\n",
       "    <tr>\n",
       "      <th>18</th>\n",
       "      <td>1780.0</td>\n",
       "      <td>15.309091</td>\n",
       "    </tr>\n",
       "  </tbody>\n",
       "</table>\n",
       "</div>"
      ],
      "text/plain": [
       "      Vehicle_Count  Average_Speed_kmh\n",
       "Hour                                  \n",
       "18           1780.0          15.309091"
      ]
     },
     "execution_count": 124,
     "metadata": {},
     "output_type": "execute_result"
    }
   ],
   "source": [
    "df_VhcCount_AvgSpeed_perHour[(df_VhcCount_AvgSpeed_perHour['Vehicle_Count']==df_VhcCount_AvgSpeed_perHour['Vehicle_Count'].max()) | \n",
    "                             (df_VhcCount_AvgSpeed_perHour['Average_Speed_kmh']==df_VhcCount_AvgSpeed_perHour['Average_Speed_kmh'].min())]"
   ]
  },
  {
   "cell_type": "markdown",
   "id": "ba4f0501-fa7e-4845-ac1b-e481b76e58fd",
   "metadata": {},
   "source": [
    "# 3.2 Location Comparison:"
   ]
  },
  {
   "cell_type": "code",
   "execution_count": 120,
   "id": "7f9b0687-0012-462d-8a2d-2e44173fdb95",
   "metadata": {},
   "outputs": [
    {
     "data": {
      "text/html": [
       "<div>\n",
       "<style scoped>\n",
       "    .dataframe tbody tr th:only-of-type {\n",
       "        vertical-align: middle;\n",
       "    }\n",
       "\n",
       "    .dataframe tbody tr th {\n",
       "        vertical-align: top;\n",
       "    }\n",
       "\n",
       "    .dataframe thead th {\n",
       "        text-align: right;\n",
       "    }\n",
       "</style>\n",
       "<table border=\"1\" class=\"dataframe\">\n",
       "  <thead>\n",
       "    <tr style=\"text-align: right;\">\n",
       "      <th></th>\n",
       "      <th>Vehicle_Count</th>\n",
       "      <th>Average_Speed_kmh</th>\n",
       "    </tr>\n",
       "    <tr>\n",
       "      <th>Location</th>\n",
       "      <th></th>\n",
       "      <th></th>\n",
       "    </tr>\n",
       "  </thead>\n",
       "  <tbody>\n",
       "    <tr>\n",
       "      <th>Gatot_Subroto</th>\n",
       "      <td>1283.194444</td>\n",
       "      <td>22.292102</td>\n",
       "    </tr>\n",
       "    <tr>\n",
       "      <th>Kuningan_Area</th>\n",
       "      <td>998.472222</td>\n",
       "      <td>28.252778</td>\n",
       "    </tr>\n",
       "    <tr>\n",
       "      <th>Senayan_Circle</th>\n",
       "      <td>1452.777778</td>\n",
       "      <td>19.300000</td>\n",
       "    </tr>\n",
       "    <tr>\n",
       "      <th>Thamrin-Sudirman</th>\n",
       "      <td>1663.325590</td>\n",
       "      <td>15.880556</td>\n",
       "    </tr>\n",
       "  </tbody>\n",
       "</table>\n",
       "</div>"
      ],
      "text/plain": [
       "                  Vehicle_Count  Average_Speed_kmh\n",
       "Location                                          \n",
       "Gatot_Subroto       1283.194444          22.292102\n",
       "Kuningan_Area        998.472222          28.252778\n",
       "Senayan_Circle      1452.777778          19.300000\n",
       "Thamrin-Sudirman    1663.325590          15.880556"
      ]
     },
     "execution_count": 120,
     "metadata": {},
     "output_type": "execute_result"
    }
   ],
   "source": [
    "# Calculate the average vehicle count for each \n",
    "# Identify the top 3 most congested locations (highest vehicle count)\n",
    "# Identify the location with the slowest average speed\n",
    "\n",
    "df_VhcCount_AvgSpeed_perLoc = df.groupby('Location').agg({'Vehicle_Count':'mean','Average_Speed_kmh':'mean'})\n",
    "df_VhcCount_AvgSpeed_perLoc"
   ]
  },
  {
   "cell_type": "code",
   "execution_count": 126,
   "id": "11f5960f-ccf6-41df-9e06-adbc4383fcfc",
   "metadata": {},
   "outputs": [
    {
     "data": {
      "text/html": [
       "<div>\n",
       "<style scoped>\n",
       "    .dataframe tbody tr th:only-of-type {\n",
       "        vertical-align: middle;\n",
       "    }\n",
       "\n",
       "    .dataframe tbody tr th {\n",
       "        vertical-align: top;\n",
       "    }\n",
       "\n",
       "    .dataframe thead th {\n",
       "        text-align: right;\n",
       "    }\n",
       "</style>\n",
       "<table border=\"1\" class=\"dataframe\">\n",
       "  <thead>\n",
       "    <tr style=\"text-align: right;\">\n",
       "      <th></th>\n",
       "      <th>Vehicle_Count</th>\n",
       "      <th>Average_Speed_kmh</th>\n",
       "    </tr>\n",
       "    <tr>\n",
       "      <th>Location</th>\n",
       "      <th></th>\n",
       "      <th></th>\n",
       "    </tr>\n",
       "  </thead>\n",
       "  <tbody>\n",
       "    <tr>\n",
       "      <th>Thamrin-Sudirman</th>\n",
       "      <td>1663.32559</td>\n",
       "      <td>15.880556</td>\n",
       "    </tr>\n",
       "  </tbody>\n",
       "</table>\n",
       "</div>"
      ],
      "text/plain": [
       "                  Vehicle_Count  Average_Speed_kmh\n",
       "Location                                          \n",
       "Thamrin-Sudirman     1663.32559          15.880556"
      ]
     },
     "execution_count": 126,
     "metadata": {},
     "output_type": "execute_result"
    }
   ],
   "source": [
    "df_VhcCount_AvgSpeed_perLoc[(df_VhcCount_AvgSpeed_perLoc['Vehicle_Count']==df_VhcCount_AvgSpeed_perLoc['Vehicle_Count'].max()) | \n",
    "                             (df_VhcCount_AvgSpeed_perLoc['Average_Speed_kmh']==df_VhcCount_AvgSpeed_perLoc['Average_Speed_kmh'].min())]"
   ]
  },
  {
   "cell_type": "markdown",
   "id": "2488d373-700a-43b5-89c5-c2ae4c763340",
   "metadata": {},
   "source": [
    "# 3.3 Weekend vs Weekday Analysis:"
   ]
  },
  {
   "cell_type": "code",
   "execution_count": 273,
   "id": "f6f30153-cd89-4e6f-bb1f-0a7efc223f39",
   "metadata": {},
   "outputs": [
    {
     "data": {
      "text/html": [
       "<div>\n",
       "<style scoped>\n",
       "    .dataframe tbody tr th:only-of-type {\n",
       "        vertical-align: middle;\n",
       "    }\n",
       "\n",
       "    .dataframe tbody tr th {\n",
       "        vertical-align: top;\n",
       "    }\n",
       "\n",
       "    .dataframe thead th {\n",
       "        text-align: right;\n",
       "    }\n",
       "</style>\n",
       "<table border=\"1\" class=\"dataframe\">\n",
       "  <thead>\n",
       "    <tr style=\"text-align: right;\">\n",
       "      <th></th>\n",
       "      <th>Vehicle_Count</th>\n",
       "      <th>Average_Speed_kmh</th>\n",
       "    </tr>\n",
       "    <tr>\n",
       "      <th>Is_Weekend</th>\n",
       "      <th></th>\n",
       "      <th></th>\n",
       "    </tr>\n",
       "  </thead>\n",
       "  <tbody>\n",
       "    <tr>\n",
       "      <th>False</th>\n",
       "      <td>1456.32037</td>\n",
       "      <td>18.778168</td>\n",
       "    </tr>\n",
       "    <tr>\n",
       "      <th>True</th>\n",
       "      <td>992.18750</td>\n",
       "      <td>30.250000</td>\n",
       "    </tr>\n",
       "  </tbody>\n",
       "</table>\n",
       "</div>"
      ],
      "text/plain": [
       "            Vehicle_Count  Average_Speed_kmh\n",
       "Is_Weekend                                  \n",
       "False          1456.32037          18.778168\n",
       "True            992.18750          30.250000"
      ]
     },
     "execution_count": 273,
     "metadata": {},
     "output_type": "execute_result"
    }
   ],
   "source": [
    "# Compare average vehicle counts between weekends and weekdays\n",
    "df_VhcCount_AvgSpeed_DayType = df.groupby('Is_Weekend').agg({'Vehicle_Count':'mean','Average_Speed_kmh':'mean'})\n",
    "df_VhcCount_AvgSpeed_DayType"
   ]
  },
  {
   "cell_type": "code",
   "execution_count": 277,
   "id": "cb826db4-d365-4174-999f-797f6c469bce",
   "metadata": {},
   "outputs": [
    {
     "data": {
      "text/plain": [
       "0.6207658687151195"
      ]
     },
     "execution_count": 277,
     "metadata": {},
     "output_type": "execute_result"
    }
   ],
   "source": [
    "# Compare average speeds between weekends and weekdays\n",
    "Weekday = df_VhcCount_AvgSpeed_DayType['Average_Speed_kmh'][False]\n",
    "Weekend = df_VhcCount_AvgSpeed_DayType['Average_Speed_kmh'][True]\n",
    "\n",
    "Weekday / Weekend"
   ]
  },
  {
   "cell_type": "markdown",
   "id": "d516423a-5cbd-4bbd-9323-9084a9beac46",
   "metadata": {},
   "source": [
    "# Determine if there's a significant difference and state your conclusion\n",
    "The Average Speed of vehicle on weekday is just 62% of The Average Speed of vehicle on weekend"
   ]
  },
  {
   "cell_type": "code",
   "execution_count": null,
   "id": "e3d5a67f-d24c-415c-be69-2ea337ee6b8f",
   "metadata": {},
   "outputs": [],
   "source": []
  },
  {
   "cell_type": "markdown",
   "id": "dc54cedc-b776-4db7-98af-816d2b74500e",
   "metadata": {},
   "source": [
    "# Step 4: Weather Impact Analysis (Moderate)"
   ]
  },
  {
   "cell_type": "markdown",
   "id": "c106ef7a-74b2-4cd9-99c0-371ea7177ea1",
   "metadata": {},
   "source": [
    "# 4.1 Group the data by weather condition and calculate:\n",
    " # Average vehicle count for each weather condition\n",
    " # Average speed for each weather condition"
   ]
  },
  {
   "cell_type": "code",
   "execution_count": 128,
   "id": "636488f7-986c-431d-b1e9-6b8b345a7990",
   "metadata": {},
   "outputs": [
    {
     "data": {
      "text/html": [
       "<div>\n",
       "<style scoped>\n",
       "    .dataframe tbody tr th:only-of-type {\n",
       "        vertical-align: middle;\n",
       "    }\n",
       "\n",
       "    .dataframe tbody tr th {\n",
       "        vertical-align: top;\n",
       "    }\n",
       "\n",
       "    .dataframe thead th {\n",
       "        text-align: right;\n",
       "    }\n",
       "</style>\n",
       "<table border=\"1\" class=\"dataframe\">\n",
       "  <thead>\n",
       "    <tr style=\"text-align: right;\">\n",
       "      <th></th>\n",
       "      <th>Vehicle_Count</th>\n",
       "      <th>Average_Speed_kmh</th>\n",
       "    </tr>\n",
       "    <tr>\n",
       "      <th>Weather_Condition</th>\n",
       "      <th></th>\n",
       "      <th></th>\n",
       "    </tr>\n",
       "  </thead>\n",
       "  <tbody>\n",
       "    <tr>\n",
       "      <th>Cloudy</th>\n",
       "      <td>1314.285714</td>\n",
       "      <td>21.862745</td>\n",
       "    </tr>\n",
       "    <tr>\n",
       "      <th>Rainy</th>\n",
       "      <td>1500.789474</td>\n",
       "      <td>18.244737</td>\n",
       "    </tr>\n",
       "    <tr>\n",
       "      <th>Sunny</th>\n",
       "      <td>1290.742108</td>\n",
       "      <td>22.761940</td>\n",
       "    </tr>\n",
       "  </tbody>\n",
       "</table>\n",
       "</div>"
      ],
      "text/plain": [
       "                   Vehicle_Count  Average_Speed_kmh\n",
       "Weather_Condition                                  \n",
       "Cloudy               1314.285714          21.862745\n",
       "Rainy                1500.789474          18.244737\n",
       "Sunny                1290.742108          22.761940"
      ]
     },
     "execution_count": 128,
     "metadata": {},
     "output_type": "execute_result"
    }
   ],
   "source": [
    "df_VhcCount_AvgSpeed_perWeather = df.groupby('Weather_Condition').agg({'Vehicle_Count':'mean','Average_Speed_kmh':'mean'})\n",
    "df_VhcCount_AvgSpeed_perWeather"
   ]
  },
  {
   "cell_type": "markdown",
   "id": "d0718fd2-669b-4c2e-a6a6-30cbc0e8e49d",
   "metadata": {},
   "source": [
    "# 4.2 Determine which weather condition causes the most severe traffic (lowest speed)"
   ]
  },
  {
   "cell_type": "code",
   "execution_count": 130,
   "id": "bd9c1261-b117-4f5d-ab78-7d349787ee7f",
   "metadata": {},
   "outputs": [
    {
     "data": {
      "text/html": [
       "<div>\n",
       "<style scoped>\n",
       "    .dataframe tbody tr th:only-of-type {\n",
       "        vertical-align: middle;\n",
       "    }\n",
       "\n",
       "    .dataframe tbody tr th {\n",
       "        vertical-align: top;\n",
       "    }\n",
       "\n",
       "    .dataframe thead th {\n",
       "        text-align: right;\n",
       "    }\n",
       "</style>\n",
       "<table border=\"1\" class=\"dataframe\">\n",
       "  <thead>\n",
       "    <tr style=\"text-align: right;\">\n",
       "      <th></th>\n",
       "      <th>Vehicle_Count</th>\n",
       "      <th>Average_Speed_kmh</th>\n",
       "    </tr>\n",
       "    <tr>\n",
       "      <th>Weather_Condition</th>\n",
       "      <th></th>\n",
       "      <th></th>\n",
       "    </tr>\n",
       "  </thead>\n",
       "  <tbody>\n",
       "    <tr>\n",
       "      <th>Rainy</th>\n",
       "      <td>1500.789474</td>\n",
       "      <td>18.244737</td>\n",
       "    </tr>\n",
       "  </tbody>\n",
       "</table>\n",
       "</div>"
      ],
      "text/plain": [
       "                   Vehicle_Count  Average_Speed_kmh\n",
       "Weather_Condition                                  \n",
       "Rainy                1500.789474          18.244737"
      ]
     },
     "execution_count": 130,
     "metadata": {},
     "output_type": "execute_result"
    }
   ],
   "source": [
    "df_VhcCount_AvgSpeed_perWeather[(df_VhcCount_AvgSpeed_perWeather['Average_Speed_kmh']==df_VhcCount_AvgSpeed_perWeather['Average_Speed_kmh'].min())]"
   ]
  },
  {
   "cell_type": "markdown",
   "id": "d9f4064f-45af-4d39-933f-d3c8adeb2c5e",
   "metadata": {},
   "source": [
    "# 4.3 Calculate the percentage difference in average speed between sunny and rainy conditions"
   ]
  },
  {
   "cell_type": "code",
   "execution_count": 263,
   "id": "79f6efb5-aa4b-436b-a22d-d5d70b78047e",
   "metadata": {},
   "outputs": [
    {
     "data": {
      "text/plain": [
       "'24.76 %'"
      ]
     },
     "execution_count": 263,
     "metadata": {},
     "output_type": "execute_result"
    }
   ],
   "source": [
    "Sunny = df_VhcCount_AvgSpeed_perWeather['Average_Speed_kmh']['Sunny']\n",
    "Rainy = df_VhcCount_AvgSpeed_perWeather['Average_Speed_kmh']['Rainy']\n",
    "\n",
    "(((Sunny - Rainy) / Rainy) * 100).round(2).astype(str) + \" %\""
   ]
  },
  {
   "cell_type": "code",
   "execution_count": null,
   "id": "cceac589-e423-4712-ae46-d4f0342f6fdc",
   "metadata": {},
   "outputs": [],
   "source": []
  },
  {
   "cell_type": "markdown",
   "id": "550e7dfc-2b28-44f4-af0e-2441ccfe14a5",
   "metadata": {},
   "source": [
    "# Step 5: Road Type Performance (Moderate)"
   ]
  },
  {
   "cell_type": "markdown",
   "id": "aa796d49-9cc6-4c40-9220-972806aab0f7",
   "metadata": {},
   "source": [
    "# 5.1 Analyze traffic patterns by road type:\n",
    " # Average vehicle count per road type\n",
    " # Average speed per road type"
   ]
  },
  {
   "cell_type": "code",
   "execution_count": 267,
   "id": "e7b8eae7-9c40-4465-9f20-cafcae8d2afa",
   "metadata": {},
   "outputs": [
    {
     "data": {
      "text/html": [
       "<div>\n",
       "<style scoped>\n",
       "    .dataframe tbody tr th:only-of-type {\n",
       "        vertical-align: middle;\n",
       "    }\n",
       "\n",
       "    .dataframe tbody tr th {\n",
       "        vertical-align: top;\n",
       "    }\n",
       "\n",
       "    .dataframe thead th {\n",
       "        text-align: right;\n",
       "    }\n",
       "</style>\n",
       "<table border=\"1\" class=\"dataframe\">\n",
       "  <thead>\n",
       "    <tr style=\"text-align: right;\">\n",
       "      <th></th>\n",
       "      <th>Vehicle_Count</th>\n",
       "      <th>Average_Speed_kmh</th>\n",
       "    </tr>\n",
       "    <tr>\n",
       "      <th>Road_Type</th>\n",
       "      <th></th>\n",
       "      <th></th>\n",
       "    </tr>\n",
       "  </thead>\n",
       "  <tbody>\n",
       "    <tr>\n",
       "      <th>Highway</th>\n",
       "      <td>1283.194444</td>\n",
       "      <td>22.292102</td>\n",
       "    </tr>\n",
       "    <tr>\n",
       "      <th>Main_Road</th>\n",
       "      <td>1566.289808</td>\n",
       "      <td>17.372727</td>\n",
       "    </tr>\n",
       "    <tr>\n",
       "      <th>Main_Road</th>\n",
       "      <td>380.000000</td>\n",
       "      <td>48.700000</td>\n",
       "    </tr>\n",
       "    <tr>\n",
       "      <th>Secondary_Road</th>\n",
       "      <td>998.472222</td>\n",
       "      <td>28.252778</td>\n",
       "    </tr>\n",
       "  </tbody>\n",
       "</table>\n",
       "</div>"
      ],
      "text/plain": [
       "                Vehicle_Count  Average_Speed_kmh\n",
       "Road_Type                                       \n",
       "Highway           1283.194444          22.292102\n",
       "Main_Road         1566.289808          17.372727\n",
       "Main_Road          380.000000          48.700000\n",
       "Secondary_Road     998.472222          28.252778"
      ]
     },
     "execution_count": 267,
     "metadata": {},
     "output_type": "execute_result"
    }
   ],
   "source": [
    "df_VhcCount_AvgSpeed_perRoad_Type = df.groupby('Road_Type').agg({'Vehicle_Count':'mean','Average_Speed_kmh':'mean'})\n",
    "df_VhcCount_AvgSpeed_perRoad_Type"
   ]
  },
  {
   "cell_type": "markdown",
   "id": "4065581e-cf50-433b-8774-64ca702e6dd0",
   "metadata": {},
   "source": [
    "# 5.2 Identify which road type handles the most traffic volume"
   ]
  },
  {
   "cell_type": "code",
   "execution_count": 269,
   "id": "92d6537c-5d46-4095-9e34-64b1be810da6",
   "metadata": {},
   "outputs": [
    {
     "data": {
      "text/html": [
       "<div>\n",
       "<style scoped>\n",
       "    .dataframe tbody tr th:only-of-type {\n",
       "        vertical-align: middle;\n",
       "    }\n",
       "\n",
       "    .dataframe tbody tr th {\n",
       "        vertical-align: top;\n",
       "    }\n",
       "\n",
       "    .dataframe thead th {\n",
       "        text-align: right;\n",
       "    }\n",
       "</style>\n",
       "<table border=\"1\" class=\"dataframe\">\n",
       "  <thead>\n",
       "    <tr style=\"text-align: right;\">\n",
       "      <th></th>\n",
       "      <th>Vehicle_Count</th>\n",
       "      <th>Average_Speed_kmh</th>\n",
       "    </tr>\n",
       "    <tr>\n",
       "      <th>Road_Type</th>\n",
       "      <th></th>\n",
       "      <th></th>\n",
       "    </tr>\n",
       "  </thead>\n",
       "  <tbody>\n",
       "    <tr>\n",
       "      <th>Main_Road</th>\n",
       "      <td>1566.289808</td>\n",
       "      <td>17.372727</td>\n",
       "    </tr>\n",
       "  </tbody>\n",
       "</table>\n",
       "</div>"
      ],
      "text/plain": [
       "           Vehicle_Count  Average_Speed_kmh\n",
       "Road_Type                                  \n",
       "Main_Road    1566.289808          17.372727"
      ]
     },
     "execution_count": 269,
     "metadata": {},
     "output_type": "execute_result"
    }
   ],
   "source": [
    "df_VhcCount_AvgSpeed_perRoad_Type[(df_VhcCount_AvgSpeed_perRoad_Type['Vehicle_Count']==df_VhcCount_AvgSpeed_perRoad_Type['Vehicle_Count'].max())]"
   ]
  },
  {
   "cell_type": "markdown",
   "id": "d6a72569-9851-464f-a157-614c4f8c9922",
   "metadata": {},
   "source": [
    "# 5.3 Determine which road type maintains the highest average speed"
   ]
  },
  {
   "cell_type": "code",
   "execution_count": 271,
   "id": "e4f055b4-f463-4acc-92b1-9477593c0a14",
   "metadata": {},
   "outputs": [
    {
     "data": {
      "text/html": [
       "<div>\n",
       "<style scoped>\n",
       "    .dataframe tbody tr th:only-of-type {\n",
       "        vertical-align: middle;\n",
       "    }\n",
       "\n",
       "    .dataframe tbody tr th {\n",
       "        vertical-align: top;\n",
       "    }\n",
       "\n",
       "    .dataframe thead th {\n",
       "        text-align: right;\n",
       "    }\n",
       "</style>\n",
       "<table border=\"1\" class=\"dataframe\">\n",
       "  <thead>\n",
       "    <tr style=\"text-align: right;\">\n",
       "      <th></th>\n",
       "      <th>Vehicle_Count</th>\n",
       "      <th>Average_Speed_kmh</th>\n",
       "    </tr>\n",
       "    <tr>\n",
       "      <th>Road_Type</th>\n",
       "      <th></th>\n",
       "      <th></th>\n",
       "    </tr>\n",
       "  </thead>\n",
       "  <tbody>\n",
       "    <tr>\n",
       "      <th>Main_Road</th>\n",
       "      <td>380.0</td>\n",
       "      <td>48.7</td>\n",
       "    </tr>\n",
       "  </tbody>\n",
       "</table>\n",
       "</div>"
      ],
      "text/plain": [
       "            Vehicle_Count  Average_Speed_kmh\n",
       "Road_Type                                   \n",
       "Main_Road           380.0               48.7"
      ]
     },
     "execution_count": 271,
     "metadata": {},
     "output_type": "execute_result"
    }
   ],
   "source": [
    "df_VhcCount_AvgSpeed_perRoad_Type[(df_VhcCount_AvgSpeed_perRoad_Type['Average_Speed_kmh']==df_VhcCount_AvgSpeed_perRoad_Type['Average_Speed_kmh'].max())]"
   ]
  },
  {
   "cell_type": "code",
   "execution_count": null,
   "id": "ce486efe-a5c6-4138-9e02-205e0706f52a",
   "metadata": {},
   "outputs": [],
   "source": []
  },
  {
   "cell_type": "markdown",
   "id": "d21133f8-43b2-4886-a9c0-a238c54eae20",
   "metadata": {},
   "source": [
    "# Step 6: Rush Hour Deep Dive (Moderate-Advanced)"
   ]
  },
  {
   "cell_type": "markdown",
   "id": "875ddd49-475b-4676-801c-cf9ea2873fa3",
   "metadata": {},
   "source": [
    "# 6.1 Filter data for only \"Morning Rush\" and \"Evening Rush\" periods"
   ]
  },
  {
   "cell_type": "code",
   "execution_count": 329,
   "id": "ae76d41b-dfa0-4828-8e8c-be0a6e6caffa",
   "metadata": {},
   "outputs": [
    {
     "data": {
      "text/html": [
       "<div>\n",
       "<style scoped>\n",
       "    .dataframe tbody tr th:only-of-type {\n",
       "        vertical-align: middle;\n",
       "    }\n",
       "\n",
       "    .dataframe tbody tr th {\n",
       "        vertical-align: top;\n",
       "    }\n",
       "\n",
       "    .dataframe thead th {\n",
       "        text-align: right;\n",
       "    }\n",
       "</style>\n",
       "<table border=\"1\" class=\"dataframe\">\n",
       "  <thead>\n",
       "    <tr style=\"text-align: right;\">\n",
       "      <th></th>\n",
       "      <th>Date</th>\n",
       "      <th>Location</th>\n",
       "      <th>Hour</th>\n",
       "      <th>Vehicle_Count</th>\n",
       "      <th>Average_Speed_kmh</th>\n",
       "      <th>Weather_Condition</th>\n",
       "      <th>Is_Weekend</th>\n",
       "      <th>Road_Type</th>\n",
       "      <th>Day_of_Week</th>\n",
       "      <th>Time_Period</th>\n",
       "    </tr>\n",
       "  </thead>\n",
       "  <tbody>\n",
       "    <tr>\n",
       "      <th>0</th>\n",
       "      <td>2024-01-01</td>\n",
       "      <td>Thamrin-Sudirman</td>\n",
       "      <td>7</td>\n",
       "      <td>1250.0</td>\n",
       "      <td>15.2</td>\n",
       "      <td>Sunny</td>\n",
       "      <td>False</td>\n",
       "      <td>Main_Road</td>\n",
       "      <td>Monday</td>\n",
       "      <td>Morning Rush</td>\n",
       "    </tr>\n",
       "    <tr>\n",
       "      <th>1</th>\n",
       "      <td>2024-01-01</td>\n",
       "      <td>Thamrin-Sudirman</td>\n",
       "      <td>8</td>\n",
       "      <td>1890.0</td>\n",
       "      <td>12.5</td>\n",
       "      <td>Sunny</td>\n",
       "      <td>False</td>\n",
       "      <td>Main_Road</td>\n",
       "      <td>Monday</td>\n",
       "      <td>Morning Rush</td>\n",
       "    </tr>\n",
       "    <tr>\n",
       "      <th>2</th>\n",
       "      <td>2024-01-01</td>\n",
       "      <td>Thamrin-Sudirman</td>\n",
       "      <td>9</td>\n",
       "      <td>1650.0</td>\n",
       "      <td>18.3</td>\n",
       "      <td>Sunny</td>\n",
       "      <td>False</td>\n",
       "      <td>Main_Road</td>\n",
       "      <td>Monday</td>\n",
       "      <td>Morning Rush</td>\n",
       "    </tr>\n",
       "    <tr>\n",
       "      <th>3</th>\n",
       "      <td>2024-01-01</td>\n",
       "      <td>Thamrin-Sudirman</td>\n",
       "      <td>17</td>\n",
       "      <td>1780.0</td>\n",
       "      <td>14.1</td>\n",
       "      <td>Sunny</td>\n",
       "      <td>False</td>\n",
       "      <td>Main_Road</td>\n",
       "      <td>Monday</td>\n",
       "      <td>Evening Rush</td>\n",
       "    </tr>\n",
       "    <tr>\n",
       "      <th>4</th>\n",
       "      <td>2024-01-01</td>\n",
       "      <td>Thamrin-Sudirman</td>\n",
       "      <td>18</td>\n",
       "      <td>2100.0</td>\n",
       "      <td>11.8</td>\n",
       "      <td>Sunny</td>\n",
       "      <td>False</td>\n",
       "      <td>Main_Road</td>\n",
       "      <td>Monday</td>\n",
       "      <td>Evening Rush</td>\n",
       "    </tr>\n",
       "    <tr>\n",
       "      <th>...</th>\n",
       "      <td>...</td>\n",
       "      <td>...</td>\n",
       "      <td>...</td>\n",
       "      <td>...</td>\n",
       "      <td>...</td>\n",
       "      <td>...</td>\n",
       "      <td>...</td>\n",
       "      <td>...</td>\n",
       "      <td>...</td>\n",
       "      <td>...</td>\n",
       "    </tr>\n",
       "    <tr>\n",
       "      <th>279</th>\n",
       "      <td>2024-01-15</td>\n",
       "      <td>Senayan_Circle</td>\n",
       "      <td>7</td>\n",
       "      <td>1320.0</td>\n",
       "      <td>16.8</td>\n",
       "      <td>Sunny</td>\n",
       "      <td>False</td>\n",
       "      <td>Main_Road</td>\n",
       "      <td>Monday</td>\n",
       "      <td>Morning Rush</td>\n",
       "    </tr>\n",
       "    <tr>\n",
       "      <th>280</th>\n",
       "      <td>2024-01-15</td>\n",
       "      <td>Senayan_Circle</td>\n",
       "      <td>8</td>\n",
       "      <td>1920.0</td>\n",
       "      <td>13.2</td>\n",
       "      <td>Sunny</td>\n",
       "      <td>False</td>\n",
       "      <td>Main_Road</td>\n",
       "      <td>Monday</td>\n",
       "      <td>Morning Rush</td>\n",
       "    </tr>\n",
       "    <tr>\n",
       "      <th>281</th>\n",
       "      <td>2024-01-15</td>\n",
       "      <td>Senayan_Circle</td>\n",
       "      <td>9</td>\n",
       "      <td>1620.0</td>\n",
       "      <td>18.5</td>\n",
       "      <td>Sunny</td>\n",
       "      <td>False</td>\n",
       "      <td>Main_Road</td>\n",
       "      <td>Monday</td>\n",
       "      <td>Morning Rush</td>\n",
       "    </tr>\n",
       "    <tr>\n",
       "      <th>282</th>\n",
       "      <td>2024-01-15</td>\n",
       "      <td>Senayan_Circle</td>\n",
       "      <td>17</td>\n",
       "      <td>1780.0</td>\n",
       "      <td>15.1</td>\n",
       "      <td>Sunny</td>\n",
       "      <td>False</td>\n",
       "      <td>Main_Road</td>\n",
       "      <td>Monday</td>\n",
       "      <td>Evening Rush</td>\n",
       "    </tr>\n",
       "    <tr>\n",
       "      <th>283</th>\n",
       "      <td>2024-01-15</td>\n",
       "      <td>Senayan_Circle</td>\n",
       "      <td>18</td>\n",
       "      <td>2120.0</td>\n",
       "      <td>12.4</td>\n",
       "      <td>Sunny</td>\n",
       "      <td>False</td>\n",
       "      <td>Main_Road</td>\n",
       "      <td>Monday</td>\n",
       "      <td>Evening Rush</td>\n",
       "    </tr>\n",
       "  </tbody>\n",
       "</table>\n",
       "<p>220 rows × 10 columns</p>\n",
       "</div>"
      ],
      "text/plain": [
       "          Date          Location  Hour  Vehicle_Count  Average_Speed_kmh  \\\n",
       "0   2024-01-01  Thamrin-Sudirman     7         1250.0               15.2   \n",
       "1   2024-01-01  Thamrin-Sudirman     8         1890.0               12.5   \n",
       "2   2024-01-01  Thamrin-Sudirman     9         1650.0               18.3   \n",
       "3   2024-01-01  Thamrin-Sudirman    17         1780.0               14.1   \n",
       "4   2024-01-01  Thamrin-Sudirman    18         2100.0               11.8   \n",
       "..         ...               ...   ...            ...                ...   \n",
       "279 2024-01-15    Senayan_Circle     7         1320.0               16.8   \n",
       "280 2024-01-15    Senayan_Circle     8         1920.0               13.2   \n",
       "281 2024-01-15    Senayan_Circle     9         1620.0               18.5   \n",
       "282 2024-01-15    Senayan_Circle    17         1780.0               15.1   \n",
       "283 2024-01-15    Senayan_Circle    18         2120.0               12.4   \n",
       "\n",
       "    Weather_Condition Is_Weekend  Road_Type Day_of_Week   Time_Period  \n",
       "0               Sunny      False  Main_Road      Monday  Morning Rush  \n",
       "1               Sunny      False  Main_Road      Monday  Morning Rush  \n",
       "2               Sunny      False  Main_Road      Monday  Morning Rush  \n",
       "3               Sunny      False  Main_Road      Monday  Evening Rush  \n",
       "4               Sunny      False  Main_Road      Monday  Evening Rush  \n",
       "..                ...        ...        ...         ...           ...  \n",
       "279             Sunny      False  Main_Road      Monday  Morning Rush  \n",
       "280             Sunny      False  Main_Road      Monday  Morning Rush  \n",
       "281             Sunny      False  Main_Road      Monday  Morning Rush  \n",
       "282             Sunny      False  Main_Road      Monday  Evening Rush  \n",
       "283             Sunny      False  Main_Road      Monday  Evening Rush  \n",
       "\n",
       "[220 rows x 10 columns]"
      ]
     },
     "execution_count": 329,
     "metadata": {},
     "output_type": "execute_result"
    }
   ],
   "source": [
    "df_rush_hour = df[(df['Time_Period']==\"Morning Rush\") | (df['Time_Period']==\"Evening Rush\")]\n",
    "df_rush_hour"
   ]
  },
  {
   "cell_type": "markdown",
   "id": "4de1a272-ce7b-4c56-a312-f310adb0aa1e",
   "metadata": {},
   "source": [
    "# 6.2 For each rush period:\n",
    " # Find the most congested location (highest vehicle count)\n",
    " # Calculate the average speed during rush hours"
   ]
  },
  {
   "cell_type": "code",
   "execution_count": null,
   "id": "8a673e43-b7e2-4844-a1d2-317b9ebc65f3",
   "metadata": {},
   "outputs": [],
   "source": [
    "df_rr_vc_as = df_rush_hour.groupby(['Time_Period','Location']).agg({'Vehicle_Count':'max','Average_Speed_kmh':'mean'})\n",
    "df_rr_vc_as = df_rr_vc_as.reset_index()\n",
    "df_rr_vc_as = df_rr_vc_as[df_rr_vc_as['Time_Period'].isin(['Morning Rush','Evening Rush'])]\n",
    "df_rr_vc_as"
   ]
  },
  {
   "cell_type": "markdown",
   "id": "bdd90d4d-2e6b-4efb-9ca4-48b79feae69d",
   "metadata": {},
   "source": [
    "# the most congested location (highest vehicle count) when Evening Rush is Thamrin-Sudirman (2450 vehicle)\n",
    "# the most congested location (highest vehicle count) when Morning Rush is Thamrin-Sudirman (2180 vehicle)"
   ]
  },
  {
   "cell_type": "markdown",
   "id": "fd141b98-7c05-4eb8-8a66-b8da6811d122",
   "metadata": {},
   "source": [
    "# 6.3 Compare morning vs evening rush hour severity"
   ]
  },
  {
   "cell_type": "code",
   "execution_count": 356,
   "id": "570d9876-dfaf-47c5-a3b5-6c609c171d1d",
   "metadata": {},
   "outputs": [
    {
     "data": {
      "text/plain": [
       "1.1799805768231815"
      ]
     },
     "execution_count": 356,
     "metadata": {},
     "output_type": "execute_result"
    }
   ],
   "source": [
    "Morning_Speed = df_rr_vc_as[df_rr_vc_as['Time_Period']=='Morning Rush']['Average_Speed_kmh'].mean()\n",
    "Evening_Speed = df_rr_vc_as[df_rr_vc_as['Time_Period']=='Evening Rush']['Average_Speed_kmh'].mean()\n",
    "Morning_Speed / Evening_Speed "
   ]
  },
  {
   "cell_type": "markdown",
   "id": "6ea0b8ae-d128-45de-975d-5aa053ea2995",
   "metadata": {},
   "source": [
    "# Morning Speed = 1.18 times higher than Evening Speed"
   ]
  },
  {
   "cell_type": "code",
   "execution_count": 358,
   "id": "0ac64ee2-5f21-4e30-9fb5-bce1283e4f4e",
   "metadata": {},
   "outputs": [
    {
     "data": {
      "text/plain": [
       "0.8929889298892989"
      ]
     },
     "execution_count": 358,
     "metadata": {},
     "output_type": "execute_result"
    }
   ],
   "source": [
    "Morning_Vehicle = df_rr_vc_as[df_rr_vc_as['Time_Period']=='Morning Rush']['Vehicle_Count'].mean()\n",
    "Evening_Vehicle = df_rr_vc_as[df_rr_vc_as['Time_Period']=='Evening Rush']['Vehicle_Count'].mean()\n",
    "Morning_Vehicle / Evening_Vehicle"
   ]
  },
  {
   "cell_type": "markdown",
   "id": "d06b14a1-6a62-402e-ba5f-f2ca9141173f",
   "metadata": {},
   "source": [
    "# Morning Vehicle volume = 0.89 times than Evening Vehicle volume"
   ]
  },
  {
   "cell_type": "code",
   "execution_count": null,
   "id": "53ab15b2-ab13-4b9f-9a0f-8e2adae5cfee",
   "metadata": {},
   "outputs": [],
   "source": []
  },
  {
   "cell_type": "markdown",
   "id": "bf045aae-57b5-4fdd-b39f-468c3f124500",
   "metadata": {},
   "source": [
    "# 6.4 Identify the day of the week with the worst evening rush hour traffic"
   ]
  },
  {
   "cell_type": "code",
   "execution_count": 369,
   "id": "65e3223c-f1df-4639-8203-28899008238c",
   "metadata": {},
   "outputs": [
    {
     "name": "stderr",
     "output_type": "stream",
     "text": [
      "C:\\Users\\Sulianto\\AppData\\Local\\Temp\\ipykernel_2936\\373138232.py:1: UserWarning: Boolean Series key will be reindexed to match DataFrame index.\n",
      "  df_rush_hour[(df['Time_Period']==\"Evening Rush\") & (df['Average_Speed_kmh']==df['Average_Speed_kmh'].min())]\n"
     ]
    },
    {
     "data": {
      "text/html": [
       "<div>\n",
       "<style scoped>\n",
       "    .dataframe tbody tr th:only-of-type {\n",
       "        vertical-align: middle;\n",
       "    }\n",
       "\n",
       "    .dataframe tbody tr th {\n",
       "        vertical-align: top;\n",
       "    }\n",
       "\n",
       "    .dataframe thead th {\n",
       "        text-align: right;\n",
       "    }\n",
       "</style>\n",
       "<table border=\"1\" class=\"dataframe\">\n",
       "  <thead>\n",
       "    <tr style=\"text-align: right;\">\n",
       "      <th></th>\n",
       "      <th>Date</th>\n",
       "      <th>Location</th>\n",
       "      <th>Hour</th>\n",
       "      <th>Vehicle_Count</th>\n",
       "      <th>Average_Speed_kmh</th>\n",
       "      <th>Weather_Condition</th>\n",
       "      <th>Is_Weekend</th>\n",
       "      <th>Road_Type</th>\n",
       "      <th>Day_of_Week</th>\n",
       "      <th>Time_Period</th>\n",
       "    </tr>\n",
       "  </thead>\n",
       "  <tbody>\n",
       "    <tr>\n",
       "      <th>176</th>\n",
       "      <td>2024-01-10</td>\n",
       "      <td>Thamrin-Sudirman</td>\n",
       "      <td>18</td>\n",
       "      <td>2450.0</td>\n",
       "      <td>8.4</td>\n",
       "      <td>Rainy</td>\n",
       "      <td>False</td>\n",
       "      <td>Main_Road</td>\n",
       "      <td>Wednesday</td>\n",
       "      <td>Evening Rush</td>\n",
       "    </tr>\n",
       "  </tbody>\n",
       "</table>\n",
       "</div>"
      ],
      "text/plain": [
       "          Date          Location  Hour  Vehicle_Count  Average_Speed_kmh  \\\n",
       "176 2024-01-10  Thamrin-Sudirman    18         2450.0                8.4   \n",
       "\n",
       "    Weather_Condition Is_Weekend  Road_Type Day_of_Week   Time_Period  \n",
       "176             Rainy      False  Main_Road   Wednesday  Evening Rush  "
      ]
     },
     "execution_count": 369,
     "metadata": {},
     "output_type": "execute_result"
    }
   ],
   "source": [
    "df_rush_hour[(df['Time_Period']==\"Evening Rush\") & (df['Average_Speed_kmh']==df['Average_Speed_kmh'].min())]"
   ]
  },
  {
   "cell_type": "code",
   "execution_count": 371,
   "id": "7cc90c6c-807f-4518-8639-97eb0618a6ab",
   "metadata": {},
   "outputs": [
    {
     "name": "stderr",
     "output_type": "stream",
     "text": [
      "C:\\Users\\Sulianto\\AppData\\Local\\Temp\\ipykernel_2936\\1118378130.py:1: UserWarning: Boolean Series key will be reindexed to match DataFrame index.\n",
      "  df_rush_hour[(df['Time_Period']==\"Evening Rush\") & (df['Vehicle_Count']==df['Vehicle_Count'].max())]\n"
     ]
    },
    {
     "data": {
      "text/html": [
       "<div>\n",
       "<style scoped>\n",
       "    .dataframe tbody tr th:only-of-type {\n",
       "        vertical-align: middle;\n",
       "    }\n",
       "\n",
       "    .dataframe tbody tr th {\n",
       "        vertical-align: top;\n",
       "    }\n",
       "\n",
       "    .dataframe thead th {\n",
       "        text-align: right;\n",
       "    }\n",
       "</style>\n",
       "<table border=\"1\" class=\"dataframe\">\n",
       "  <thead>\n",
       "    <tr style=\"text-align: right;\">\n",
       "      <th></th>\n",
       "      <th>Date</th>\n",
       "      <th>Location</th>\n",
       "      <th>Hour</th>\n",
       "      <th>Vehicle_Count</th>\n",
       "      <th>Average_Speed_kmh</th>\n",
       "      <th>Weather_Condition</th>\n",
       "      <th>Is_Weekend</th>\n",
       "      <th>Road_Type</th>\n",
       "      <th>Day_of_Week</th>\n",
       "      <th>Time_Period</th>\n",
       "    </tr>\n",
       "  </thead>\n",
       "  <tbody>\n",
       "    <tr>\n",
       "      <th>176</th>\n",
       "      <td>2024-01-10</td>\n",
       "      <td>Thamrin-Sudirman</td>\n",
       "      <td>18</td>\n",
       "      <td>2450.0</td>\n",
       "      <td>8.4</td>\n",
       "      <td>Rainy</td>\n",
       "      <td>False</td>\n",
       "      <td>Main_Road</td>\n",
       "      <td>Wednesday</td>\n",
       "      <td>Evening Rush</td>\n",
       "    </tr>\n",
       "  </tbody>\n",
       "</table>\n",
       "</div>"
      ],
      "text/plain": [
       "          Date          Location  Hour  Vehicle_Count  Average_Speed_kmh  \\\n",
       "176 2024-01-10  Thamrin-Sudirman    18         2450.0                8.4   \n",
       "\n",
       "    Weather_Condition Is_Weekend  Road_Type Day_of_Week   Time_Period  \n",
       "176             Rainy      False  Main_Road   Wednesday  Evening Rush  "
      ]
     },
     "execution_count": 371,
     "metadata": {},
     "output_type": "execute_result"
    }
   ],
   "source": [
    "df_rush_hour[(df['Time_Period']==\"Evening Rush\") & (df['Vehicle_Count']==df['Vehicle_Count'].max())]"
   ]
  },
  {
   "cell_type": "markdown",
   "id": "91bc3321-5e51-42f9-a209-c828507bd243",
   "metadata": {},
   "source": [
    "# Wednesday is the day of the week with the worst evening rush hour traffic"
   ]
  }
 ],
 "metadata": {
  "kernelspec": {
   "display_name": "Python 3 (ipykernel)",
   "language": "python",
   "name": "python3"
  },
  "language_info": {
   "codemirror_mode": {
    "name": "ipython",
    "version": 3
   },
   "file_extension": ".py",
   "mimetype": "text/x-python",
   "name": "python",
   "nbconvert_exporter": "python",
   "pygments_lexer": "ipython3",
   "version": "3.12.7"
  }
 },
 "nbformat": 4,
 "nbformat_minor": 5
}

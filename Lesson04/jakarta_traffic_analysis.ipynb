import pandas as pd
import numpy as np

df = pd.read_csv('jakarta_traffic_data.csv')

print(df.head(5))
print(df.describe())
print(df.info())

# check missing values
print(df.isnull().sum())

# change column Date data type into datetime
df['Date'] = pd.to_datetime(df['Date'])

df['Vehicle_Count'] = df['Vehicle_Count'].fillna(df['Vehicle_Count'].mean())
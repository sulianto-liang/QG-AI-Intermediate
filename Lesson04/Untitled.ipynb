{
 "cells": [
  {
   "cell_type": "code",
   "execution_count": 6,
   "id": "515df38b-17cc-42d8-a0bb-125bfa1da98b",
   "metadata": {},
   "outputs": [],
   "source": [
    "import pandas as pd\n",
    "import numpy as np"
   ]
  },
  {
   "cell_type": "code",
   "execution_count": 8,
   "id": "438a56bb-d9e0-4ef2-943d-f38f36b799d3",
   "metadata": {},
   "outputs": [],
   "source": [
    "df = pd.read_csv('jakarta_traffic_data.csv')"
   ]
  },
  {
   "cell_type": "code",
   "execution_count": 16,
   "id": "d15d3171-8821-4032-b5c7-3c719ac44153",
   "metadata": {},
   "outputs": [
    {
     "data": {
      "text/html": [
       "<div>\n",
       "<style scoped>\n",
       "    .dataframe tbody tr th:only-of-type {\n",
       "        vertical-align: middle;\n",
       "    }\n",
       "\n",
       "    .dataframe tbody tr th {\n",
       "        vertical-align: top;\n",
       "    }\n",
       "\n",
       "    .dataframe thead th {\n",
       "        text-align: right;\n",
       "    }\n",
       "</style>\n",
       "<table border=\"1\" class=\"dataframe\">\n",
       "  <thead>\n",
       "    <tr style=\"text-align: right;\">\n",
       "      <th></th>\n",
       "      <th>Date</th>\n",
       "      <th>Location</th>\n",
       "      <th>Hour</th>\n",
       "      <th>Vehicle_Count</th>\n",
       "      <th>Average_Speed_kmh</th>\n",
       "      <th>Weather_Condition</th>\n",
       "      <th>Is_Weekend</th>\n",
       "      <th>Road_Type</th>\n",
       "    </tr>\n",
       "  </thead>\n",
       "  <tbody>\n",
       "    <tr>\n",
       "      <th>0</th>\n",
       "      <td>2024-01-01</td>\n",
       "      <td>Thamrin-Sudirman</td>\n",
       "      <td>7</td>\n",
       "      <td>1250.0</td>\n",
       "      <td>15.2</td>\n",
       "      <td>Sunny</td>\n",
       "      <td>False</td>\n",
       "      <td>Main_Road</td>\n",
       "    </tr>\n",
       "    <tr>\n",
       "      <th>1</th>\n",
       "      <td>2024-01-01</td>\n",
       "      <td>Thamrin-Sudirman</td>\n",
       "      <td>8</td>\n",
       "      <td>1890.0</td>\n",
       "      <td>12.5</td>\n",
       "      <td>Sunny</td>\n",
       "      <td>False</td>\n",
       "      <td>Main_Road</td>\n",
       "    </tr>\n",
       "    <tr>\n",
       "      <th>2</th>\n",
       "      <td>2024-01-01</td>\n",
       "      <td>Thamrin-Sudirman</td>\n",
       "      <td>9</td>\n",
       "      <td>1650.0</td>\n",
       "      <td>18.3</td>\n",
       "      <td>Sunny</td>\n",
       "      <td>False</td>\n",
       "      <td>Main_Road</td>\n",
       "    </tr>\n",
       "    <tr>\n",
       "      <th>3</th>\n",
       "      <td>2024-01-01</td>\n",
       "      <td>Thamrin-Sudirman</td>\n",
       "      <td>17</td>\n",
       "      <td>1780.0</td>\n",
       "      <td>14.1</td>\n",
       "      <td>Sunny</td>\n",
       "      <td>False</td>\n",
       "      <td>Main_Road</td>\n",
       "    </tr>\n",
       "    <tr>\n",
       "      <th>4</th>\n",
       "      <td>2024-01-01</td>\n",
       "      <td>Thamrin-Sudirman</td>\n",
       "      <td>18</td>\n",
       "      <td>2100.0</td>\n",
       "      <td>11.8</td>\n",
       "      <td>Sunny</td>\n",
       "      <td>False</td>\n",
       "      <td>Main_Road</td>\n",
       "    </tr>\n",
       "  </tbody>\n",
       "</table>\n",
       "</div>"
      ],
      "text/plain": [
       "        Date          Location  Hour  Vehicle_Count  Average_Speed_kmh  \\\n",
       "0 2024-01-01  Thamrin-Sudirman     7         1250.0               15.2   \n",
       "1 2024-01-01  Thamrin-Sudirman     8         1890.0               12.5   \n",
       "2 2024-01-01  Thamrin-Sudirman     9         1650.0               18.3   \n",
       "3 2024-01-01  Thamrin-Sudirman    17         1780.0               14.1   \n",
       "4 2024-01-01  Thamrin-Sudirman    18         2100.0               11.8   \n",
       "\n",
       "  Weather_Condition Is_Weekend  Road_Type  \n",
       "0             Sunny      False  Main_Road  \n",
       "1             Sunny      False  Main_Road  \n",
       "2             Sunny      False  Main_Road  \n",
       "3             Sunny      False  Main_Road  \n",
       "4             Sunny      False  Main_Road  "
      ]
     },
     "execution_count": 16,
     "metadata": {},
     "output_type": "execute_result"
    }
   ],
   "source": [
    "df.head(5)"
   ]
  },
  {
   "cell_type": "code",
   "execution_count": 18,
   "id": "cd3f1923-07ba-4b11-8579-3e58afce3533",
   "metadata": {},
   "outputs": [
    {
     "data": {
      "text/html": [
       "<div>\n",
       "<style scoped>\n",
       "    .dataframe tbody tr th:only-of-type {\n",
       "        vertical-align: middle;\n",
       "    }\n",
       "\n",
       "    .dataframe tbody tr th {\n",
       "        vertical-align: top;\n",
       "    }\n",
       "\n",
       "    .dataframe thead th {\n",
       "        text-align: right;\n",
       "    }\n",
       "</style>\n",
       "<table border=\"1\" class=\"dataframe\">\n",
       "  <thead>\n",
       "    <tr style=\"text-align: right;\">\n",
       "      <th></th>\n",
       "      <th>Date</th>\n",
       "      <th>Hour</th>\n",
       "      <th>Vehicle_Count</th>\n",
       "      <th>Average_Speed_kmh</th>\n",
       "    </tr>\n",
       "  </thead>\n",
       "  <tbody>\n",
       "    <tr>\n",
       "      <th>count</th>\n",
       "      <td>288</td>\n",
       "      <td>288.000000</td>\n",
       "      <td>287.000000</td>\n",
       "      <td>287.000000</td>\n",
       "    </tr>\n",
       "    <tr>\n",
       "      <th>mean</th>\n",
       "      <td>2024-01-08 00:00:00</td>\n",
       "      <td>12.027778</td>\n",
       "      <td>1349.442509</td>\n",
       "      <td>21.431359</td>\n",
       "    </tr>\n",
       "    <tr>\n",
       "      <th>min</th>\n",
       "      <td>2024-01-01 00:00:00</td>\n",
       "      <td>7.000000</td>\n",
       "      <td>380.000000</td>\n",
       "      <td>8.400000</td>\n",
       "    </tr>\n",
       "    <tr>\n",
       "      <th>25%</th>\n",
       "      <td>2024-01-04 00:00:00</td>\n",
       "      <td>8.000000</td>\n",
       "      <td>1050.000000</td>\n",
       "      <td>15.600000</td>\n",
       "    </tr>\n",
       "    <tr>\n",
       "      <th>50%</th>\n",
       "      <td>2024-01-08 00:00:00</td>\n",
       "      <td>10.000000</td>\n",
       "      <td>1320.000000</td>\n",
       "      <td>19.800000</td>\n",
       "    </tr>\n",
       "    <tr>\n",
       "      <th>75%</th>\n",
       "      <td>2024-01-12 00:00:00</td>\n",
       "      <td>17.000000</td>\n",
       "      <td>1650.000000</td>\n",
       "      <td>25.800000</td>\n",
       "    </tr>\n",
       "    <tr>\n",
       "      <th>max</th>\n",
       "      <td>2024-01-16 00:00:00</td>\n",
       "      <td>22.000000</td>\n",
       "      <td>2450.000000</td>\n",
       "      <td>52.100000</td>\n",
       "    </tr>\n",
       "    <tr>\n",
       "      <th>std</th>\n",
       "      <td>NaN</td>\n",
       "      <td>4.319060</td>\n",
       "      <td>412.906764</td>\n",
       "      <td>8.013873</td>\n",
       "    </tr>\n",
       "  </tbody>\n",
       "</table>\n",
       "</div>"
      ],
      "text/plain": [
       "                      Date        Hour  Vehicle_Count  Average_Speed_kmh\n",
       "count                  288  288.000000     287.000000         287.000000\n",
       "mean   2024-01-08 00:00:00   12.027778    1349.442509          21.431359\n",
       "min    2024-01-01 00:00:00    7.000000     380.000000           8.400000\n",
       "25%    2024-01-04 00:00:00    8.000000    1050.000000          15.600000\n",
       "50%    2024-01-08 00:00:00   10.000000    1320.000000          19.800000\n",
       "75%    2024-01-12 00:00:00   17.000000    1650.000000          25.800000\n",
       "max    2024-01-16 00:00:00   22.000000    2450.000000          52.100000\n",
       "std                    NaN    4.319060     412.906764           8.013873"
      ]
     },
     "execution_count": 18,
     "metadata": {},
     "output_type": "execute_result"
    }
   ],
   "source": [
    "df.describe()"
   ]
  },
  {
   "cell_type": "code",
   "execution_count": 20,
   "id": "a0a962d4-ec17-434e-a5e2-68908243ae72",
   "metadata": {},
   "outputs": [
    {
     "name": "stdout",
     "output_type": "stream",
     "text": [
      "<class 'pandas.core.frame.DataFrame'>\n",
      "RangeIndex: 288 entries, 0 to 287\n",
      "Data columns (total 8 columns):\n",
      " #   Column             Non-Null Count  Dtype         \n",
      "---  ------             --------------  -----         \n",
      " 0   Date               288 non-null    datetime64[ns]\n",
      " 1   Location           288 non-null    object        \n",
      " 2   Hour               288 non-null    int64         \n",
      " 3   Vehicle_Count      287 non-null    float64       \n",
      " 4   Average_Speed_kmh  287 non-null    float64       \n",
      " 5   Weather_Condition  287 non-null    object        \n",
      " 6   Is_Weekend         287 non-null    object        \n",
      " 7   Road_Type          288 non-null    object        \n",
      "dtypes: datetime64[ns](1), float64(2), int64(1), object(4)\n",
      "memory usage: 18.1+ KB\n"
     ]
    }
   ],
   "source": [
    "df.info()"
   ]
  },
  {
   "cell_type": "code",
   "execution_count": 12,
   "id": "2cb322e2-4a8a-40cb-a4ea-c0c104881f76",
   "metadata": {},
   "outputs": [
    {
     "name": "stdout",
     "output_type": "stream",
     "text": [
      "Date                 0\n",
      "Location             0\n",
      "Hour                 0\n",
      "Vehicle_Count        1\n",
      "Average_Speed_kmh    1\n",
      "Weather_Condition    1\n",
      "Is_Weekend           1\n",
      "Road_Type            0\n",
      "dtype: int64\n"
     ]
    }
   ],
   "source": [
    "# check missing values\n",
    "print(df.isnull().sum())"
   ]
  },
  {
   "cell_type": "code",
   "execution_count": null,
   "id": "7511f4d1-d7e9-403d-853a-21b69315dc1a",
   "metadata": {},
   "outputs": [],
   "source": []
  },
  {
   "cell_type": "code",
   "execution_count": 26,
   "id": "4c96499a-9c90-4bd9-a04a-1d2f47658934",
   "metadata": {},
   "outputs": [
    {
     "data": {
      "text/plain": [
       "1349.4425087108013"
      ]
     },
     "execution_count": 26,
     "metadata": {},
     "output_type": "execute_result"
    }
   ],
   "source": [
    "df['Vehicle_Count'].mean()"
   ]
  },
  {
   "cell_type": "code",
   "execution_count": 14,
   "id": "b989dbc5-f4e8-4887-9168-c49432955e30",
   "metadata": {},
   "outputs": [],
   "source": [
    "# change column Date data type into datetime\n",
    "df['Date'] = pd.to_datetime(df['Date'])"
   ]
  },
  {
   "cell_type": "code",
   "execution_count": null,
   "id": "79adc0a4-6bd5-48c7-9a45-012ebc47c7d7",
   "metadata": {},
   "outputs": [],
   "source": [
    "df['Vehicle_Count'] = df['Vehicle_Count'].fillna(df['Vehicle_Count'].mean())"
   ]
  }
 ],
 "metadata": {
  "kernelspec": {
   "display_name": "Python 3 (ipykernel)",
   "language": "python",
   "name": "python3"
  },
  "language_info": {
   "codemirror_mode": {
    "name": "ipython",
    "version": 3
   },
   "file_extension": ".py",
   "mimetype": "text/x-python",
   "name": "python",
   "nbconvert_exporter": "python",
   "pygments_lexer": "ipython3",
   "version": "3.12.7"
  }
 },
 "nbformat": 4,
 "nbformat_minor": 5
}
